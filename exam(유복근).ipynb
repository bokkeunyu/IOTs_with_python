{
  "cells": [
    {
      "cell_type": "markdown",
      "metadata": {
        "id": "view-in-github",
        "colab_type": "text"
      },
      "source": [
        "<a href=\"https://colab.research.google.com/github/bokkeunyu/IOTs_with_python/blob/main/exam(%EC%9C%A0%EB%B3%B5%EA%B7%BC).ipynb\" target=\"_parent\"><img src=\"https://colab.research.google.com/assets/colab-badge.svg\" alt=\"Open In Colab\"/></a>"
      ]
    },
    {
      "cell_type": "code",
      "execution_count": null,
      "id": "d588681c",
      "metadata": {
        "id": "d588681c"
      },
      "outputs": [],
      "source": [
        "\n",
        "#'Q1. 다음 데이터를 사용하여 Pandas DataFrame을 생성하세요. 그리고 데이터 프레임의 마지막 3개 행을 출력하는 코드를 작성하세요.'\n",
        "\n",
        "이름 = ['박지성', '손흥민', '김연아']\n",
        "나이 = [40, 31, 33]\n",
        "직업 = ['축구선수', '축구선수', '피겨선수']\n",
        "import pandas as pd\n",
        "import numpy as np"
      ]
    },
    {
      "cell_type": "code",
      "source": [
        "df=pd.DataFrame({'이름':이름, '나이':나이, '직업': 직업})\n",
        "print (df)\n",
        "print (df.tail(3))"
      ],
      "metadata": {
        "id": "bAJJVJmD3LjY",
        "outputId": "2325af0e-574b-4914-84be-59108fca10dd",
        "colab": {
          "base_uri": "https://localhost:8080/"
        }
      },
      "id": "bAJJVJmD3LjY",
      "execution_count": null,
      "outputs": [
        {
          "output_type": "stream",
          "name": "stdout",
          "text": [
            "    이름  나이    직업\n",
            "0  박지성  40  축구선수\n",
            "1  손흥민  31  축구선수\n",
            "2  김연아  33  피겨선수\n",
            "    이름  나이    직업\n",
            "0  박지성  40  축구선수\n",
            "1  손흥민  31  축구선수\n",
            "2  김연아  33  피겨선수\n"
          ]
        }
      ]
    },
    {
      "cell_type": "code",
      "execution_count": null,
      "id": "1638d299",
      "metadata": {
        "id": "1638d299"
      },
      "outputs": [],
      "source": [
        "#'Q2. 데이터 요약, Pandas DataFrame에서 다음 함수(정확히는 메서드)들의 역할을 간단히 설명하세요:tail() head()\n",
        "# (answer) tail(n)는 데이터프레임의 마지막 n개 행을 추출, head(m)은 데이터프레임의 처음 m개행 추출"
      ]
    },
    {
      "cell_type": "code",
      "source": [
        "print(df.tail(1))\n",
        "print(df.head(2))"
      ],
      "metadata": {
        "id": "B2HhLC4c_Nq3",
        "outputId": "94fdc032-65c8-45de-967d-0cb657b9e15d",
        "colab": {
          "base_uri": "https://localhost:8080/"
        }
      },
      "id": "B2HhLC4c_Nq3",
      "execution_count": null,
      "outputs": [
        {
          "output_type": "stream",
          "name": "stdout",
          "text": [
            "    이름  나이    직업\n",
            "2  김연아  33  피겨선수\n",
            "    이름  나이    직업\n",
            "0  박지성  40  축구선수\n",
            "1  손흥민  31  축구선수\n"
          ]
        }
      ]
    },
    {
      "cell_type": "code",
      "execution_count": null,
      "metadata": {
        "id": "As53FkegCB5f",
        "outputId": "f69d935d-432b-4031-cd86-ea7250252581",
        "colab": {
          "base_uri": "https://localhost:8080/",
          "height": 447
        }
      },
      "outputs": [
        {
          "output_type": "execute_result",
          "data": {
            "text/plain": [
              "[<matplotlib.lines.Line2D at 0x785a04e7f460>]"
            ]
          },
          "metadata": {},
          "execution_count": 51
        },
        {
          "output_type": "display_data",
          "data": {
            "text/plain": [
              "<Figure size 640x480 with 1 Axes>"
            ],
            "image/png": "[encoded data removed]"
          },
          "metadata": {}
        }
      ],
      "source": [
        "# Q3. 데이터 시각화, Matplotlib를 사용하여 아래 데이터를 선 그래프로 시각화하세요. x축은 날짜, y축은 판매량입니다.\n",
        "import matplotlib.pyplot as plt\n",
        "날짜 = ['2024-01-01', '2024-01-02', '2024-01-03', '2024-01-04']\n",
        "판매량 = [200, 250, 300, 400]\n",
        "plt.plot(날짜, 판매량, marker='*')"
      ],
      "id": "As53FkegCB5f"
    },
    {
      "cell_type": "code",
      "execution_count": null,
      "id": "3e4a8024",
      "metadata": {
        "id": "3e4a8024",
        "outputId": "2d9d4bd5-4b37-483b-971b-8ff86f507b32",
        "colab": {
          "base_uri": "https://localhost:8080/"
        }
      },
      "outputs": [
        {
          "output_type": "stream",
          "name": "stdout",
          "text": [
            "    이름    점수\n",
            "0  홍길동  90.0\n",
            "1  김영희   0.0\n",
            "2  이철수  85.0\n"
          ]
        }
      ],
      "source": [
        "# Q4. 결측치(NaN)가 포함된 아래 데이터에서 결측치를 0으로 대체하는 코드를 작성하세요.'\n",
        "import pandas as pd\n",
        "import numpy as np\n",
        "data = {'이름': ['홍길동', '김영희', '이철수'],\n",
        "        '점수': [90, None, 85]}\n",
        "df = pd.DataFrame(data)\n",
        "df['점수']=df['점수'].fillna(0)\n",
        "print (df)"
      ]
    },
    {
      "cell_type": "code",
      "execution_count": null,
      "id": "ba96f8df",
      "metadata": {
        "id": "ba96f8df",
        "outputId": "bfdb3855-a57b-4f24-dffa-eaa402441e8f",
        "colab": {
          "base_uri": "https://localhost:8080/"
        }
      },
      "outputs": [
        {
          "output_type": "stream",
          "name": "stdout",
          "text": [
            "    이름    나이    점수\n",
            "0  김영희  30.0  85.0\n",
            "1  박민수   NaN  75.0\n",
            "2  이철수  35.0   NaN\n",
            "3  홍길동  25.0  95.0\n"
          ]
        }
      ],
      "source": [
        "# Q5.데이터 병합, 아래 두 데이터 프레임을 이름 열을 기준으로 outer join으로 병합하세요.\n",
        "import pandas as pd\n",
        "df1 = {'이름': ['홍길동', '김영희', '이철수'], '나이': [25, 30, 35]}\n",
        "df2 = {'이름': ['홍길동', '김영희', '박민수'], '점수': [95, 85, 75]}\n",
        "df11 = pd.DataFrame(df1)\n",
        "df22 = pd.DataFrame(df2)\n",
        "df1122=pd.merge(df11, df22, on='이름', how='outer')\n",
        "print (df1122)"
      ]
    },
    {
      "cell_type": "code",
      "source": [
        "# Q6.점수에 따른 등급 부여, 다음 데이터를 사용하여 \"점수\" 열에 따라 등급을 부여하는 \"등급\" 열을 추가하세요.\n",
        "# 학점 부여 기준은 다음과 같습니다: 90점 이상: \"A\" / 80점 이상 90점 미만: \"B\"\n",
        "#  / 70점 이상 80점 미만: \"C\" / 70점 미만: \"D“\n",
        "import pandas as pd\n",
        "data = {'이름': ['홍길동', '김영희', '이철수', '박민수'], '점수': [85, 72, 90, 60]}\n",
        "df = pd.DataFrame(data)\n",
        "def grade(score):\n",
        "    if score >= 90:\n",
        "        return \"A\"\n",
        "    elif score >= 80:\n",
        "        return \"B\"\n",
        "    elif score >= 70:\n",
        "        return \"C\"\n",
        "    else:\n",
        "        return \"D\"\n",
        "df['등급'] = df['점수'].apply(grade)\n",
        "print(df)\n",
        "\n"
      ],
      "metadata": {
        "id": "tQi-jihxPlTo",
        "outputId": "09d6d472-4705-4e8b-e564-578d67c1480a",
        "colab": {
          "base_uri": "https://localhost:8080/"
        }
      },
      "id": "tQi-jihxPlTo",
      "execution_count": null,
      "outputs": [
        {
          "output_type": "stream",
          "name": "stdout",
          "text": [
            "    이름  점수 등급\n",
            "0  홍길동  85  B\n",
            "1  김영희  72  C\n",
            "2  이철수  90  A\n",
            "3  박민수  60  D\n"
          ]
        }
      ]
    }
  ],
  "metadata": {
    "kernelspec": {
      "display_name": "Python 3 (ipykernel)",
      "language": "python",
      "name": "python3"
    },
    "language_info": {
      "codemirror_mode": {
        "name": "ipython",
        "version": 3
      },
      "file_extension": ".py",
      "mimetype": "text/x-python",
      "name": "python",
      "nbconvert_exporter": "python",
      "pygments_lexer": "ipython3",
      "version": "3.11.5"
    },
    "colab": {
      "provenance": [],
      "include_colab_link": true
    }
  },
  "nbformat": 4,
  "nbformat_minor": 5
}