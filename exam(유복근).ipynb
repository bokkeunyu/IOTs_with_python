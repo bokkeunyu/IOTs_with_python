{
  "cells": [
    {
      "cell_type": "markdown",
      "metadata": {
        "id": "view-in-github",
        "colab_type": "text"
      },
      "source": [
        "<a href=\"https://colab.research.google.com/github/bokkeunyu/IOTs_with_python/blob/main/exam(%EC%9C%A0%EB%B3%B5%EA%B7%BC).ipynb\" target=\"_parent\"><img src=\"https://colab.research.google.com/assets/colab-badge.svg\" alt=\"Open In Colab\"/></a>"
      ]
    },
    {
      "cell_type": "code",
      "execution_count": 17,
      "id": "d588681c",
      "metadata": {
        "id": "d588681c"
      },
      "outputs": [],
      "source": [
        "\n",
        "#'Q1. 다음 데이터를 사용하여 Pandas DataFrame을 생성하세요. 그리고 데이터 프레임의 마지막 3개 행을 출력하는 코드를 작성하세요.'\n",
        "\n",
        "이름 = ['박지성', '손흥민', '김연아']\n",
        "나이 = [40, 31, 33]\n",
        "직업 = ['축구선수', '축구선수', '피겨선수']\n",
        "import pandas as pd\n",
        "import numpy as np"
      ]
    },
    {
      "cell_type": "code",
      "source": [
        "df=pd.DataFrame({'이름':이름, '나이':나이, '직업': 직업})\n",
        "print (df)\n",
        "print (df.tail(3))"
      ],
      "metadata": {
        "id": "bAJJVJmD3LjY",
        "outputId": "1e102737-de9d-42b0-ae23-c4b406c44f3b",
        "colab": {
          "base_uri": "https://localhost:8080/"
        }
      },
      "id": "bAJJVJmD3LjY",
      "execution_count": 23,
      "outputs": [
        {
          "output_type": "stream",
          "name": "stdout",
          "text": [
            "    이름  나이    직업\n",
            "0  박지성  40  축구선수\n",
            "1  손흥민  31  축구선수\n",
            "2  김연아  33  피겨선수\n",
            "    이름  나이    직업\n",
            "0  박지성  40  축구선수\n",
            "1  손흥민  31  축구선수\n",
            "2  김연아  33  피겨선수\n"
          ]
        }
      ]
    },
    {
      "cell_type": "code",
      "execution_count": 21,
      "id": "1638d299",
      "metadata": {
        "id": "1638d299"
      },
      "outputs": [],
      "source": [
        "#'Q2. 데이터 요약, Pandas DataFrame에서 다음 함수(정확히는 메서드)들의 역할을 간단히 설명하세요:tail() head()\n",
        "# tail(n)는 데이터프레임의 마지막 n개 행을 추출, head(m)은 데이터프레임의 처음 m개행 추출"
      ]
    },
    {
      "cell_type": "code",
      "source": [
        "print(df.tail(1))\n",
        "print(df.head(2))"
      ],
      "metadata": {
        "id": "B2HhLC4c_Nq3",
        "outputId": "ba50cadc-67d8-4c76-b5cd-c8ce8687fb10",
        "colab": {
          "base_uri": "https://localhost:8080/"
        }
      },
      "id": "B2HhLC4c_Nq3",
      "execution_count": 22,
      "outputs": [
        {
          "output_type": "stream",
          "name": "stdout",
          "text": [
            "    이름  나이    직업\n",
            "2  김연아  33  피겨선수\n",
            "    이름  나이    직업\n",
            "0  박지성  40  축구선수\n",
            "1  손흥민  31  축구선수\n"
          ]
        }
      ]
    },
    {
      "cell_type": "code",
      "execution_count": null,
      "metadata": {
        "id": "As53FkegCB5f"
      },
      "outputs": [],
      "source": [
        "# Q3. 데이터 시각화, Matplotlib를 사용하여 아래 데이터를 선 그래프로 시각화하세요. x축은 날짜, y축은 판매량입니다.\n",
        "import matplotlib.pyplot as plt\n",
        "날짜 = ['2024-01-01', '2024-01-02', '2024-01-03', '2024-01-04']\n",
        "판매량 = [200, 250, 300, 400]\n",
        "\n",
        "\n"
      ],
      "id": "As53FkegCB5f"
    },
    {
      "cell_type": "code",
      "execution_count": null,
      "id": "3e4a8024",
      "metadata": {
        "id": "3e4a8024"
      },
      "outputs": [],
      "source": [
        "#결측치 처리\n",
        "'Q4. 결측치(NaN)가 포함된 아래 데이터에서 결측치를 0으로 대체하는 코드를 작성하세요.'\n",
        "\n",
        "data = {'이름': ['홍길동', '김영희', '이철수'],\n",
        "        '점수': [95, None, 85]}\n",
        "df = pd.DataFrame(data)\n"
      ]
    },
    {
      "cell_type": "code",
      "execution_count": null,
      "id": "17059bac",
      "metadata": {
        "id": "17059bac"
      },
      "outputs": [],
      "source": [
        "#데이터 필터링\n",
        "'Q5. 아래 데이터 프레임에서 나이 30 이상인 행만 필터링하는 코드를 작성하세요.'\n",
        "import pandas as pd\n",
        "data = {'이름': ['홍길동', '김영희', '이철수'],\n",
        "        '나이': [25, 30, 35]}\n",
        "df = pd.DataFrame(data)"
      ]
    },
    {
      "cell_type": "code",
      "execution_count": null,
      "id": "ba96f8df",
      "metadata": {
        "id": "ba96f8df"
      },
      "outputs": [],
      "source": [
        "#데이터 병합\n",
        "'Q6. 아래 두 데이터 프레임을 이름 열을 기준으로 병합(Merge)하는 코드를 작성하세요.'\n",
        "df1 = {'이름': ['홍길동', '김영희', '이철수'],\n",
        "         '나이': [25, 30, 35]}\n",
        "df2 = {'이름': ['홍길동', '김영희', '박민수'],\n",
        "         '점수': [95, 85, 75]}\n",
        "\n",
        "df1 = pd.DataFrame(data1)\n",
        "df2 = pd.DataFrame(data2)"
      ]
    },
    {
      "cell_type": "code",
      "execution_count": null,
      "id": "2c3b7270",
      "metadata": {
        "id": "2c3b7270",
        "outputId": "354f441f-5da9-4620-f5ee-ff0b26467bbf"
      },
      "outputs": [
        {
          "data": {
            "text/plain": [
              "'Q7. \"titanic_train.csv\"라는 파일을 읽어서 DataFrame으로 변환하는 코드를 작성하세요. 그리고  fare  열의 평균을 계산하세요.'"
            ]
          },
          "execution_count": 27,
          "metadata": {},
          "output_type": "execute_result"
        }
      ],
      "source": [
        "#csv 파일 읽기\n",
        "'Q7. \"titanic_train.csv\"라는 파일을 읽어서 DataFrame으로 변환하는 코드를 작성하세요. 그리고 fare 열의 평균을 계산하세요.'"
      ]
    }
  ],
  "metadata": {
    "kernelspec": {
      "display_name": "Python 3 (ipykernel)",
      "language": "python",
      "name": "python3"
    },
    "language_info": {
      "codemirror_mode": {
        "name": "ipython",
        "version": 3
      },
      "file_extension": ".py",
      "mimetype": "text/x-python",
      "name": "python",
      "nbconvert_exporter": "python",
      "pygments_lexer": "ipython3",
      "version": "3.11.5"
    },
    "colab": {
      "provenance": [],
      "include_colab_link": true
    }
  },
  "nbformat": 4,
  "nbformat_minor": 5
}